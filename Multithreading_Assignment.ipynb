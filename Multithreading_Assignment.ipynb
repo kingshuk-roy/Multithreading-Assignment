{
  "nbformat": 4,
  "nbformat_minor": 0,
  "metadata": {
    "colab": {
      "provenance": []
    },
    "kernelspec": {
      "name": "python3",
      "display_name": "Python 3"
    },
    "language_info": {
      "name": "python"
    }
  },
  "cells": [
    {
      "cell_type": "code",
      "execution_count": 16,
      "metadata": {
        "id": "fp2MeV5SaL0_",
        "colab": {
          "base_uri": "https://localhost:8080/",
          "height": 35
        },
        "outputId": "150c0050-52f4-494b-97dc-f50c66fff6c1"
      },
      "outputs": [
        {
          "output_type": "execute_result",
          "data": {
            "text/plain": [
              "\"The module used to handle threads in Python is called 'threading'\\n\""
            ],
            "application/vnd.google.colaboratory.intrinsic+json": {
              "type": "string"
            }
          },
          "metadata": {},
          "execution_count": 16
        }
      ],
      "source": [
        "# Q.1 What is multithreading in python? Why is it used? Name the module used to handle threads in python.\n",
        "\n",
        "'''\n",
        "Multithreading is defined as the ability of a processor to execute multiple threads concurrently.\n",
        "In a simple, single-core CPU, it is achieved using frequent switching between threads. This is termed context switching.'''\n",
        "\n",
        "'''\n",
        "Multithreading is particularly useful in situations where a program needs to perform multiple tasks simultaneously or where some tasks can run independently of each other.\n",
        "For example, in a web server, multiple client requests can be processed concurrently using threads, allowing the server to handle multiple connections simultaneously.'''\n",
        "\n",
        "'''The module used to handle threads in Python is called 'threading'\n",
        "'''\n",
        "\n"
      ]
    },
    {
      "cell_type": "code",
      "source": [
        "'''\n",
        "Q.2 Why threading module used? Write the use of the following functions\n",
        " activeCount\n",
        " currentThread\n",
        " enumerate'''\n",
        "\n",
        "\n",
        "'''\n",
        "The threading module in Python is used for creating and managing threads in a Python program.\n",
        "It provides a high-level interface for working with threads and offers several useful functions and methods'''\n",
        "\n",
        "import threading\n",
        "\n",
        "def my_thread_func():\n",
        "    print(\"Hello from thread!\")\n",
        "                                                  # The activeCount() function returns the number of Thread objects currently alive.It can be used to get a count of the currently running threads in a program.This function can be helpful for monitoring the status of active threads and managing concurrency.\n",
        "t1 = threading.Thread(target=my_thread_func)\n",
        "t1.start()\n",
        "\n",
        "print(\"Number of active threads:\", threading.activeCount())\n"
      ],
      "metadata": {
        "colab": {
          "base_uri": "https://localhost:8080/"
        },
        "id": "jBKq5lrn0TzA",
        "outputId": "76ccf222-4550-4f7e-8429-5cbc2b80cf70"
      },
      "execution_count": 8,
      "outputs": [
        {
          "output_type": "stream",
          "name": "stdout",
          "text": [
            "Hello from thread!Number of active threads: 6\n"
          ]
        },
        {
          "output_type": "stream",
          "name": "stderr",
          "text": [
            "<ipython-input-8-9ef89a6af2d6>:20: DeprecationWarning: activeCount() is deprecated, use active_count() instead\n",
            "  print(\"Number of active threads:\", threading.activeCount())\n"
          ]
        }
      ]
    },
    {
      "cell_type": "code",
      "source": [
        "import threading\n",
        "\n",
        "def my_thread_func():\n",
        "    current_thread = threading.currentThread()\n",
        "    print(\"Current thread name:\", current_thread.getName())\n",
        "                                                              # The currentThread() function returns the currently executing Thread object.It can be used to obtain a reference to the thread in which the function is called.This function is useful for getting information about the current thread, such as its name or identification number.\n",
        "t1 = threading.Thread(target=my_thread_func)\n",
        "t1.start()\n"
      ],
      "metadata": {
        "colab": {
          "base_uri": "https://localhost:8080/"
        },
        "id": "Enf_H6Lv05WQ",
        "outputId": "a6a2b21c-5f25-4f12-ebb0-44ccfcba7378"
      },
      "execution_count": 9,
      "outputs": [
        {
          "output_type": "stream",
          "name": "stdout",
          "text": [
            "\n",
            "Current thread name: Thread-21 (my_thread_func)\n"
          ]
        },
        {
          "output_type": "stream",
          "name": "stderr",
          "text": [
            "<ipython-input-9-8c6e7c4e4551>:4: DeprecationWarning: currentThread() is deprecated, use current_thread() instead\n",
            "  current_thread = threading.currentThread()\n",
            "<ipython-input-9-8c6e7c4e4551>:5: DeprecationWarning: getName() is deprecated, get the name attribute instead\n",
            "  print(\"Current thread name:\", current_thread.getName())\n"
          ]
        }
      ]
    },
    {
      "cell_type": "code",
      "source": [
        "import threading\n",
        "\n",
        "def my_thread_func():\n",
        "    print(\"Hello from thread!\")\n",
        "\n",
        "t1 = threading.Thread(target=my_thread_func)\n",
        "t2 = threading.Thread(target=my_thread_func)\n",
        "t1.start()\n",
        "t2.start()\n",
        "                                                # The enumerate() function returns a list of all currently active Thread objects.It can be used to retrieve a list of all the running threads in a program.This function is useful for iterating over the threads and performing operations on each thread individually.\n",
        "thread_list = threading.enumerate()\n",
        "print(\"Active threads:\")\n",
        "for thread in thread_list:\n",
        "    print(thread.getName())\n"
      ],
      "metadata": {
        "colab": {
          "base_uri": "https://localhost:8080/"
        },
        "id": "CJHwTVqM0_ge",
        "outputId": "441e8c34-cc21-4ba4-dc74-4589da73484f"
      },
      "execution_count": 10,
      "outputs": [
        {
          "output_type": "stream",
          "name": "stdout",
          "text": [
            "Hello from thread!\n",
            "Hello from thread!Active threads:\n",
            "MainThread\n",
            "Thread-2 (_thread_main)\n",
            "Thread-3\n",
            "Thread-1\n",
            "_colab_inspector_thread\n",
            "Thread-23 (my_thread_func)\n"
          ]
        },
        {
          "output_type": "stream",
          "name": "stderr",
          "text": [
            "<ipython-input-10-37c516c4596f>:14: DeprecationWarning: getName() is deprecated, get the name attribute instead\n",
            "  print(thread.getName())\n"
          ]
        },
        {
          "output_type": "stream",
          "name": "stdout",
          "text": [
            "\n"
          ]
        }
      ]
    },
    {
      "cell_type": "code",
      "source": [
        "'''\n",
        "Q.3 Explain the following functions\n",
        " run\n",
        " start\n",
        " join\n",
        " isAlive'''\n",
        "\n",
        "'''\n",
        "1. `run()`:\n",
        "   - The `run()` method is the entry point for the thread's activity.\n",
        "   - It defines the behavior of the thread when it is started.\n",
        "   - In the `threading.Thread` class, `run()` is the method that you can override in a subclass to define the actions that the thread should perform.\n",
        "   - When you start a thread using the `start()` method, it internally calls the `run()` method to execute the specified target function or the overridden `run()` method of the thread object.\n",
        "   - Example usage:'''\n",
        "\n",
        "\n",
        "import threading\n",
        "class MyThread(threading.Thread):\n",
        "  def run(self):\n",
        "    print(\"Thread is running\")\n",
        "\n",
        "t = MyThread()\n",
        "t.start()  # It internally calls the run() method\n",
        "\n",
        "'''\n",
        "2. `start()`:\n",
        "   - The `start()` method starts the execution of a thread.\n",
        "   - It spawns a new thread and calls the `run()` method of the thread.\n",
        "   - The target function specified during thread creation or the overridden `run()` method is executed in the new thread.\n",
        "   - It is important to note that the `start()` method does not block the current thread; it returns immediately after the thread is started.\n",
        "   - Example usage:'''\n",
        "\n",
        "import threading\n",
        "\n",
        "def my_thread_func():\n",
        "    print(\"Hello from thread!\")\n",
        "\n",
        "t = threading.Thread(target=my_thread_func)\n",
        "t.start()  # Start the execution of the thread\n",
        "\n",
        "'''\n",
        "3. `join()`:\n",
        "   - The `join()` method blocks the calling thread until the thread on which it is called has completed its execution.\n",
        "   - It is used to ensure that the main thread (or any other thread) waits for a specific thread to finish before continuing further.\n",
        "   - By calling `join()`, the program flow waits at that point until the specified thread completes.\n",
        "   - If the optional timeout argument is provided, `join(timeout)` will block at most for the specified number of seconds.\n",
        "   - Example usage:'''\n",
        "\n",
        "import threading\n",
        "import time\n",
        "\n",
        "def my_thread_func():\n",
        "    time.sleep(3)\n",
        "    print(\"Thread execution complete\")\n",
        "\n",
        "t = threading.Thread(target=my_thread_func)\n",
        "t.start()\n",
        "t.join()  # Wait for the thread to finish before continuing\n",
        "print(\"Program execution complete\")\n",
        "\n",
        "'''\n",
        "4. `isAlive()`:\n",
        "   - The `isAlive()` method is used to check whether a thread is currently executing or not.\n",
        "   - It returns a boolean value indicating the status of the thread.\n",
        "   - If the thread is currently running or alive, it returns `True`; otherwise, it returns `False`.\n",
        "   - This method is useful when you need to check if a thread is still active before performing certain actions based on its status.\n",
        "   - Example usage:'''\n",
        "\n",
        "import threading\n",
        "\n",
        "def my_thread_func():\n",
        "    print(\"Thread is running\")\n",
        "\n",
        "t = threading.Thread(target=my_thread_func)\n",
        "t.start()\n",
        "print(\"Thread is alive?\", t.is_alive())  # Check if the thread is alive\n",
        "\n",
        "'These functions are essential for managing and controlling the execution of threads in Python, allowing you to define thread behavior, start thread execution, synchronize thread completion, and check thread status.'"
      ],
      "metadata": {
        "colab": {
          "base_uri": "https://localhost:8080/",
          "height": 140
        },
        "id": "J8wcJaRV1xB3",
        "outputId": "05171839-e4d8-4f41-e677-b2b9b17263d4"
      },
      "execution_count": 12,
      "outputs": [
        {
          "output_type": "stream",
          "name": "stdout",
          "text": [
            "Thread is running\n",
            "Hello from thread!\n",
            "Thread execution complete\n",
            "Program execution complete\n",
            "Thread is runningThread is alive? True\n"
          ]
        },
        {
          "output_type": "execute_result",
          "data": {
            "text/plain": [
              "'These functions are essential for managing and controlling the execution of threads in Python, allowing you to define thread behavior, start thread execution, synchronize thread completion, and check thread status.'"
            ],
            "application/vnd.google.colaboratory.intrinsic+json": {
              "type": "string"
            }
          },
          "metadata": {},
          "execution_count": 12
        },
        {
          "output_type": "stream",
          "name": "stdout",
          "text": [
            "\n"
          ]
        }
      ]
    },
    {
      "cell_type": "code",
      "source": [
        "# Q4. Write a python program to create two threads. Thread one must print the list of squares and thread two must print the list of cubes\n",
        "\n",
        "import threading\n",
        "\n",
        "def print_squares():\n",
        "    squares = [num ** 2 for num in range(1, 6)]\n",
        "    print(\"List of squares:\", squares)\n",
        "\n",
        "def print_cubes():\n",
        "    cubes = [num ** 3 for num in range(1, 6)]\n",
        "    print(\"List of cubes:\", cubes)\n",
        "\n",
        "# Create thread objects\n",
        "t1 = threading.Thread(target=print_squares)\n",
        "t2 = threading.Thread(target=print_cubes)\n",
        "\n",
        "# Start the threads\n",
        "t1.start()\n",
        "t2.start()\n",
        "\n",
        "# Wait for threads to finish\n",
        "t1.join()\n",
        "t2.join()\n",
        "\n"
      ],
      "metadata": {
        "colab": {
          "base_uri": "https://localhost:8080/"
        },
        "id": "Ud0C9ziG3glx",
        "outputId": "d1361ee0-59ef-46df-fbea-4400bb706811"
      },
      "execution_count": 13,
      "outputs": [
        {
          "output_type": "stream",
          "name": "stdout",
          "text": [
            "List of squares: [1, 4, 9, 16, 25]\n",
            "List of cubes: [1, 8, 27, 64, 125]\n"
          ]
        }
      ]
    },
    {
      "cell_type": "code",
      "source": [
        "# 5. State advantages and disadvantages of multithreading\n",
        "\n",
        "'''Advantages of Multithreading:\n",
        "\n",
        "1. Increased Responsiveness and Efficiency: Multithreading allows a program to be more responsive and efficient by enabling concurrent execution of multiple tasks. While one thread is waiting for a resource or blocked on I/O, another thread can continue executing, making better use of available resources and reducing overall execution time.\n",
        "\n",
        "2. Resource Sharing and Utilization: Multithreading enables efficient sharing of system resources among multiple threads within a process. Threads can share data and communicate with each other more easily compared to separate processes. This allows for better utilization of system resources such as memory, file handles, and network connections, leading to improved performance and scalability.\n",
        "\n",
        "3. Simplified Program Design: Multithreading can simplify the design of complex applications. By dividing the program's tasks into separate threads, each responsible for a specific part of the functionality, you can achieve modularity and encapsulation. This can make the program easier to understand, maintain, and debug.\n",
        "\n",
        "Disadvantages of Multithreading:\n",
        "\n",
        "1. Complexity and Synchronization: Multithreading introduces additional complexity to program design and implementation. Concurrent access to shared resources can lead to issues such as race conditions, deadlocks, and data inconsistencies. Proper synchronization mechanisms like locks, semaphores, and condition variables must be used to ensure thread safety, which adds complexity to the code.\n",
        "\n",
        "2. Increased Resource Overhead: Multithreading imposes some overhead due to the creation, management, and synchronization of threads. Context switching between threads requires time and resources. Moreover, the increased complexity of managing multiple threads can consume more system resources, including memory and CPU cycles.\n",
        "\n",
        "3. Debugging and Troubleshooting: Debugging multithreaded programs can be challenging. Issues such as race conditions and deadlocks may not be easily reproducible and can manifest intermittently, making them harder to detect and diagnose. Debugging tools and techniques specific to multithreading are often required to identify and fix these problems effectively.\n",
        "\n",
        "Overall, while multithreading offers significant advantages in terms of responsiveness, efficiency, and resource utilization, it also introduces complexities and challenges that need to be carefully managed to ensure correct and reliable behavior of the program.'''"
      ],
      "metadata": {
        "colab": {
          "base_uri": "https://localhost:8080/",
          "height": 140
        },
        "id": "vTZC5fR_3474",
        "outputId": "8ce1c6fa-3b92-4953-8633-fcb48b9b3cd7"
      },
      "execution_count": 14,
      "outputs": [
        {
          "output_type": "execute_result",
          "data": {
            "text/plain": [
              "\"Advantages of Multithreading:\\n\\n1. Increased Responsiveness and Efficiency: Multithreading allows a program to be more responsive and efficient by enabling concurrent execution of multiple tasks. While one thread is waiting for a resource or blocked on I/O, another thread can continue executing, making better use of available resources and reducing overall execution time.\\n\\n2. Resource Sharing and Utilization: Multithreading enables efficient sharing of system resources among multiple threads within a process. Threads can share data and communicate with each other more easily compared to separate processes. This allows for better utilization of system resources such as memory, file handles, and network connections, leading to improved performance and scalability.\\n\\n3. Simplified Program Design: Multithreading can simplify the design of complex applications. By dividing the program's tasks into separate threads, each responsible for a specific part of the functionality, you can achieve modularity and encapsulation. This can make the program easier to understand, maintain, and debug.\\n\\nDisadvantages of Multithreading:\\n\\n1. Complexity and Synchronization: Multithreading introduces additional complexity to program design and implementation. Concurrent access to shared resources can lead to issues such as race conditions, deadlocks, and data inconsistencies. Proper synchronization mechanisms like locks, semaphores, and condition variables must be used to ensure thread safety, which adds complexity to the code.\\n\\n2. Increased Resource Overhead: Multithreading imposes some overhead due to the creation, management, and synchronization of threads. Context switching between threads requires time and resources. Moreover, the increased complexity of managing multiple threads can consume more system resources, including memory and CPU cycles.\\n\\n3. Debugging and Troubleshooting: Debugging multithreaded programs can be challenging. Issues such as race conditions and deadlocks may not be easily reproducible and can manifest intermittently, making them harder to detect and diagnose. Debugging tools and techniques specific to multithreading are often required to identify and fix these problems effectively.\\n\\nOverall, while multithreading offers significant advantages in terms of responsiveness, efficiency, and resource utilization, it also introduces complexities and challenges that need to be carefully managed to ensure correct and reliable behavior of the program.\""
            ],
            "application/vnd.google.colaboratory.intrinsic+json": {
              "type": "string"
            }
          },
          "metadata": {},
          "execution_count": 14
        }
      ]
    },
    {
      "cell_type": "code",
      "source": [
        "# Q6. Explain deadlocks and race conditions.\n",
        "\n",
        "'''\n",
        "Certainly! Let's explain deadlocks and race conditions, which are common concurrency-related issues:\n",
        "\n",
        "1. Deadlocks:\n",
        "   - A deadlock occurs when two or more threads or processes are unable to proceed because each is waiting for the other to release a resource.\n",
        "   - It creates a situation where none of the threads can progress, leading to a system deadlock.\n",
        "   - Deadlocks typically occur due to a circular dependency between resources or when there is a lack of proper synchronization and resource allocation management.\n",
        "   - Deadlocks can be challenging to identify and resolve as they can happen intermittently and may not be easily reproducible.\n",
        "   - Example scenario:\n",
        "     - Thread A holds Resource X and requests Resource Y.\n",
        "     - Thread B holds Resource Y and requests Resource X.\n",
        "     - Both threads are waiting for each other to release the resources, resulting in a deadlock.\n",
        "\n",
        "2. Race Conditions:\n",
        "   - A race condition occurs when the behavior of a program depends on the relative timing of events or the interleaving of multiple threads.\n",
        "   - It happens when multiple threads access shared data or resources concurrently without proper synchronization, and the final outcome becomes unpredictable.\n",
        "   - Race conditions can lead to data corruption, incorrect program behavior, and other hard-to-debug issues.\n",
        "   - Example scenario:\n",
        "     - Two threads, A and B, increment a shared variable \"count\" by one.\n",
        "     - Thread A reads the value of \"count\" as 5.\n",
        "     - Before it can update the value, Thread B also reads the value of \"count\" as 5.\n",
        "     - Both threads increment the value by one and store it back, resulting in \"count\" being incremented only once instead of twice.\n",
        "\n",
        "To mitigate these issues:\n",
        "- Deadlocks can be prevented by carefully managing resource allocation, avoiding circular dependencies, and using proper synchronization techniques like locks and semaphores.\n",
        "- Race conditions can be prevented by applying synchronization mechanisms, such as locks or atomic operations, to ensure that shared data is accessed and modified by only one thread at a time.\n",
        "\n",
        "Proper understanding of these concurrency-related issues and the use of appropriate synchronization techniques are crucial for developing reliable and correct concurrent programs.'''"
      ],
      "metadata": {
        "colab": {
          "base_uri": "https://localhost:8080/",
          "height": 140
        },
        "id": "0xIZQgdX4k6I",
        "outputId": "e69d6f06-96a4-48df-f389-32031c18e2ec"
      },
      "execution_count": 15,
      "outputs": [
        {
          "output_type": "execute_result",
          "data": {
            "text/plain": [
              "'\\nCertainly! Let\\'s explain deadlocks and race conditions, which are common concurrency-related issues:\\n\\n1. Deadlocks:\\n   - A deadlock occurs when two or more threads or processes are unable to proceed because each is waiting for the other to release a resource.\\n   - It creates a situation where none of the threads can progress, leading to a system deadlock.\\n   - Deadlocks typically occur due to a circular dependency between resources or when there is a lack of proper synchronization and resource allocation management.\\n   - Deadlocks can be challenging to identify and resolve as they can happen intermittently and may not be easily reproducible.\\n   - Example scenario:\\n     - Thread A holds Resource X and requests Resource Y.\\n     - Thread B holds Resource Y and requests Resource X.\\n     - Both threads are waiting for each other to release the resources, resulting in a deadlock.\\n\\n2. Race Conditions:\\n   - A race condition occurs when the behavior of a program depends on the relative timing of events or the interleaving of multiple threads.\\n   - It happens when multiple threads access shared data or resources concurrently without proper synchronization, and the final outcome becomes unpredictable.\\n   - Race conditions can lead to data corruption, incorrect program behavior, and other hard-to-debug issues.\\n   - Example scenario:\\n     - Two threads, A and B, increment a shared variable \"count\" by one.\\n     - Thread A reads the value of \"count\" as 5.\\n     - Before it can update the value, Thread B also reads the value of \"count\" as 5.\\n     - Both threads increment the value by one and store it back, resulting in \"count\" being incremented only once instead of twice.\\n\\nTo mitigate these issues:\\n- Deadlocks can be prevented by carefully managing resource allocation, avoiding circular dependencies, and using proper synchronization techniques like locks and semaphores.\\n- Race conditions can be prevented by applying synchronization mechanisms, such as locks or atomic operations, to ensure that shared data is accessed and modified by only one thread at a time.\\n\\nProper understanding of these concurrency-related issues and the use of appropriate synchronization techniques are crucial for developing reliable and correct concurrent programs.'"
            ],
            "application/vnd.google.colaboratory.intrinsic+json": {
              "type": "string"
            }
          },
          "metadata": {},
          "execution_count": 15
        }
      ]
    },
    {
      "cell_type": "code",
      "source": [],
      "metadata": {
        "id": "vN4rdFiq5d2v"
      },
      "execution_count": null,
      "outputs": []
    }
  ]
}